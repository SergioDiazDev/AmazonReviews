{
  "nbformat": 4,
  "nbformat_minor": 0,
  "metadata": {
    "colab": {
      "name": "Reviews.ipynb",
      "provenance": [],
      "collapsed_sections": [],
      "mount_file_id": "1kRpRyJgPxXbQK-ungxepI79ciJlB6kzj",
      "authorship_tag": "ABX9TyNC8rknzSSjbA9OVsHYnmQj",
      "include_colab_link": true
    },
    "kernelspec": {
      "name": "python3",
      "display_name": "Python 3"
    },
    "language_info": {
      "name": "python"
    }
  },
  "cells": [
    {
      "cell_type": "markdown",
      "metadata": {
        "id": "view-in-github",
        "colab_type": "text"
      },
      "source": [
        "<a href=\"https://colab.research.google.com/github/SergioDiazDev/AmazonReviews/blob/master/Reviews.ipynb\" target=\"_parent\"><img src=\"https://colab.research.google.com/assets/colab-badge.svg\" alt=\"Open In Colab\"/></a>"
      ]
    },
    {
      "cell_type": "markdown",
      "source": [
        "#Reviews Amazon"
      ],
      "metadata": {
        "id": "o9kXWciukA14"
      }
    },
    {
      "cell_type": "markdown",
      "source": [
        "##Problema:\n",
        "Existencia de reviews en Amazon fraudulentas, a cambio de dinero o de la devolucion del dinero, lo que hace que productos de baja calidad o fraudulentos consigan una puntuacion alta."
      ],
      "metadata": {
        "id": "xq8RYIpKdIj3"
      }
    },
    {
      "cell_type": "markdown",
      "source": [
        "##¿Como podemos solucionarlo?\n",
        "\n",
        "Comprobando los usuarios que más valoraciones altas realizan y lo utiles que son sus reviews para otros usuarios.\n",
        "\n",
        "Tambien se observa si sus reviews contien una cantidad de texto definida."
      ],
      "metadata": {
        "id": "KCxNIh5xdbN_"
      }
    },
    {
      "cell_type": "code",
      "execution_count": 158,
      "metadata": {
        "id": "RT2Fr6vecG1O"
      },
      "outputs": [],
      "source": [
        "import pandas as pd\n",
        "import numpy as np\n"
      ]
    },
    {
      "cell_type": "markdown",
      "source": [
        "Creo la variable **dataset** donde he guardado el csv para trabajar con pandas."
      ],
      "metadata": {
        "id": "V7yMZ_ZuoxPf"
      }
    },
    {
      "cell_type": "code",
      "source": [
        "dataset = pd.read_csv('/content/drive/MyDrive/Colab Notebooks/Reviews.csv',sep=',')"
      ],
      "metadata": {
        "id": "9g7TwcnAgsTf"
      },
      "execution_count": 159,
      "outputs": []
    },
    {
      "cell_type": "markdown",
      "source": [
        "Elimino los datos nulos, para evitar interferencias y que los datos nulos son despreciables respecto a la muestra."
      ],
      "metadata": {
        "id": "Pm69ka61ogUR"
      }
    },
    {
      "cell_type": "code",
      "source": [
        "print('Total de datos:',len(dataset.index))\n",
        "\n",
        "print(dataset.isna().sum())\n",
        "\n",
        "dataset= dataset.dropna()"
      ],
      "metadata": {
        "colab": {
          "base_uri": "https://localhost:8080/"
        },
        "id": "OtmDpOq4pGHX",
        "outputId": "426c2939-1a57-479a-ee27-ae1f88316a23"
      },
      "execution_count": 160,
      "outputs": [
        {
          "output_type": "stream",
          "name": "stdout",
          "text": [
            "Total de datos: 568454\n",
            "Id                         0\n",
            "ProductId                  0\n",
            "UserId                     0\n",
            "ProfileName               16\n",
            "HelpfulnessNumerator       0\n",
            "HelpfulnessDenominator     0\n",
            "Score                      0\n",
            "Time                       0\n",
            "Summary                   27\n",
            "Text                       0\n",
            "dtype: int64\n"
          ]
        }
      ]
    },
    {
      "cell_type": "markdown",
      "source": [
        "Ahora comprobaré cuantos usuarios(UserId) han realizado más de una review de 5 estrellas y contaré cuantas reviews ha realizado en total"
      ],
      "metadata": {
        "id": "8lYbwtWJpEtX"
      }
    },
    {
      "cell_type": "code",
      "source": [
        "user_Reviews = (dataset[['UserId']].value_counts()).to_frame()\n",
        "\n",
        "filtro = dataset['Score'] == 5\n",
        "user_Score5 = dataset[filtro]\n",
        "\n",
        "user_Score5 = (user_Score5[['UserId', 'Score']].value_counts()).to_frame()\n",
        "\n"
      ],
      "metadata": {
        "id": "nYABGTcYMZNa"
      },
      "execution_count": 161,
      "outputs": []
    },
    {
      "cell_type": "markdown",
      "source": [
        "Creo una tabla que relacione la cantidad de reviews totales con las reviews de 5 estrellas"
      ],
      "metadata": {
        "id": "aO3R6RR3LSSh"
      }
    },
    {
      "cell_type": "code",
      "source": [
        "tabla=pd.merge(user_Reviews, user_Score5,on='UserId')\n",
        "\n",
        "tabla.columns = ['Total_Score', 'Star_5']"
      ],
      "metadata": {
        "id": "-p_gFfh1IeTC"
      },
      "execution_count": 162,
      "outputs": []
    },
    {
      "cell_type": "markdown",
      "source": [
        "A continuacion voy a considerar que a partir de 50 reviews podemos tener a un potencial usuario fraudulento, entonces eleminare de la tabla a todos los usuarios que tengan menos de 50 reviews."
      ],
      "metadata": {
        "id": "Irc1vASSLqlZ"
      }
    },
    {
      "cell_type": "code",
      "source": [
        "filtro = tabla['Total_Score'] > 50\n",
        "tabla = tabla[filtro]"
      ],
      "metadata": {
        "id": "bLDGkaYCRvCc"
      },
      "execution_count": 163,
      "outputs": []
    },
    {
      "cell_type": "markdown",
      "source": [
        "Ahora vamos a calcular la el porcentaje de reviews de 5 estrellas que realizan los usuarios."
      ],
      "metadata": {
        "id": "7qvPH1MNMfzf"
      }
    },
    {
      "cell_type": "code",
      "source": [
        "tabla['%'] = tabla['Star_5'] / tabla['Total_Score']\n",
        "tabla['%']=tabla['%'].round(decimals=3)"
      ],
      "metadata": {
        "id": "mssH5-2nNBUn"
      },
      "execution_count": 164,
      "outputs": []
    },
    {
      "cell_type": "markdown",
      "source": [
        "Vamos a considerar que una persona con mas de un 0.8 de ratio, es un potencial usuario fraudulento, el cual habria que analizar.(Analizando los comentarios del usuario.)"
      ],
      "metadata": {
        "id": "G5QUX-iEfipP"
      }
    },
    {
      "cell_type": "code",
      "source": [
        "filtro = tabla['%'] > 0.8\n",
        "tabla = tabla[filtro]\n",
        "tabla.sort_values(by=['%'], ascending=False)"
      ],
      "metadata": {
        "colab": {
          "base_uri": "https://localhost:8080/",
          "height": 1000
        },
        "id": "cSd6eGbAfwkH",
        "outputId": "705ebe3d-0db8-4950-f4fb-eacd73840629"
      },
      "execution_count": 165,
      "outputs": [
        {
          "output_type": "execute_result",
          "data": {
            "text/plain": [
              "                Total_Score  Star_5      %\n",
              "UserId                                    \n",
              "A36JDIN9RAAIEC           51      51  1.000\n",
              "A29P51TN9KKMU9           84      84  1.000\n",
              "A20P8VC55KPPCT           70      70  1.000\n",
              "A29JUMRL1US6YP          172     171  0.994\n",
              "A1LZJZIHUPLDV4          154     152  0.987\n",
              "A1ODKP5Y7DPMM1           59      58  0.983\n",
              "ADS5APY1NKTL4           125     121  0.968\n",
              "ABDCYK04CL6O4            68      65  0.956\n",
              "A1GQAKL9CGQLP1           67      64  0.955\n",
              "A3NEAETOSXDBOM           89      85  0.955\n",
              "AZV26LP92E6WU           167     159  0.952\n",
              "A3UUTDX2WNVUS3           62      59  0.952\n",
              "A1Q7A78VSQ5GQ4           92      86  0.935\n",
              "A2II09GQGWOMTQ           75      70  0.933\n",
              "ALSAOZ1V546VT           123     114  0.927\n",
              "A6GMEO3VRY51S            52      48  0.923\n",
              "A3QJQQZTKFV7BJ           58      53  0.914\n",
              "AQ52JX9ES6XYY            58      52  0.897\n",
              "A281NPSIMI1C2R          365     326  0.893\n",
              "A1TMAVN4CEM8U8          204     182  0.892\n",
              "A2YHXAZLCLDT8D           63      56  0.889\n",
              "A3OXRFCJI67IMN           99      88  0.889\n",
              "A2E3WMF9RWW2X2          105      93  0.886\n",
              "AIEEK7AHXKZCC            51      45  0.882\n",
              "AKMEY1BSHSDG7           155     136  0.877\n",
              "A1XGFW5016CGQI           80      70  0.875\n",
              "A1080SE9X3ECK0           72      63  0.875\n",
              "A2G7B7FKP2O2PU           88      77  0.875\n",
              "A1X1CEGHTHMBL1          135     118  0.874\n",
              "A2NOW4U7W3F7RI           53      46  0.868\n",
              "A3VKBFC5K2INR4           75      65  0.867\n",
              "AYB4ELCS5AM8P           105      91  0.867\n",
              "A1P2XYD265YE21          120     103  0.858\n",
              "A35TIC6B8MVKWG           54      46  0.852\n",
              "AMRMK86X3PKXD           107      90  0.841\n",
              "A3M174IC0VXOS2           63      53  0.841\n",
              "A2MNB77YGJ3CN0          107      90  0.841\n",
              "A2OWR2PL3DLWS4          109      91  0.835\n",
              "A106ZCP7RSXMRU           60      50  0.833\n",
              "A37MH7ICH80QOX           58      48  0.828\n",
              "A383XURHVF8ON6           92      76  0.826\n",
              "A3FY3H6F4249E0          127     104  0.819\n",
              "AJQDIT55SZ3ZX            63      51  0.810\n",
              "A3UCN2RGY7O6S1           63      51  0.810\n",
              "A1KEK09ZA6J9P8           71      57  0.803\n",
              "A17V9XL4CWTQ6G           76      61  0.803"
            ],
            "text/html": [
              "\n",
              "  <div id=\"df-0da3320f-46e4-497c-9a79-55def2a34f7a\">\n",
              "    <div class=\"colab-df-container\">\n",
              "      <div>\n",
              "<style scoped>\n",
              "    .dataframe tbody tr th:only-of-type {\n",
              "        vertical-align: middle;\n",
              "    }\n",
              "\n",
              "    .dataframe tbody tr th {\n",
              "        vertical-align: top;\n",
              "    }\n",
              "\n",
              "    .dataframe thead th {\n",
              "        text-align: right;\n",
              "    }\n",
              "</style>\n",
              "<table border=\"1\" class=\"dataframe\">\n",
              "  <thead>\n",
              "    <tr style=\"text-align: right;\">\n",
              "      <th></th>\n",
              "      <th>Total_Score</th>\n",
              "      <th>Star_5</th>\n",
              "      <th>%</th>\n",
              "    </tr>\n",
              "    <tr>\n",
              "      <th>UserId</th>\n",
              "      <th></th>\n",
              "      <th></th>\n",
              "      <th></th>\n",
              "    </tr>\n",
              "  </thead>\n",
              "  <tbody>\n",
              "    <tr>\n",
              "      <th>A36JDIN9RAAIEC</th>\n",
              "      <td>51</td>\n",
              "      <td>51</td>\n",
              "      <td>1.000</td>\n",
              "    </tr>\n",
              "    <tr>\n",
              "      <th>A29P51TN9KKMU9</th>\n",
              "      <td>84</td>\n",
              "      <td>84</td>\n",
              "      <td>1.000</td>\n",
              "    </tr>\n",
              "    <tr>\n",
              "      <th>A20P8VC55KPPCT</th>\n",
              "      <td>70</td>\n",
              "      <td>70</td>\n",
              "      <td>1.000</td>\n",
              "    </tr>\n",
              "    <tr>\n",
              "      <th>A29JUMRL1US6YP</th>\n",
              "      <td>172</td>\n",
              "      <td>171</td>\n",
              "      <td>0.994</td>\n",
              "    </tr>\n",
              "    <tr>\n",
              "      <th>A1LZJZIHUPLDV4</th>\n",
              "      <td>154</td>\n",
              "      <td>152</td>\n",
              "      <td>0.987</td>\n",
              "    </tr>\n",
              "    <tr>\n",
              "      <th>A1ODKP5Y7DPMM1</th>\n",
              "      <td>59</td>\n",
              "      <td>58</td>\n",
              "      <td>0.983</td>\n",
              "    </tr>\n",
              "    <tr>\n",
              "      <th>ADS5APY1NKTL4</th>\n",
              "      <td>125</td>\n",
              "      <td>121</td>\n",
              "      <td>0.968</td>\n",
              "    </tr>\n",
              "    <tr>\n",
              "      <th>ABDCYK04CL6O4</th>\n",
              "      <td>68</td>\n",
              "      <td>65</td>\n",
              "      <td>0.956</td>\n",
              "    </tr>\n",
              "    <tr>\n",
              "      <th>A1GQAKL9CGQLP1</th>\n",
              "      <td>67</td>\n",
              "      <td>64</td>\n",
              "      <td>0.955</td>\n",
              "    </tr>\n",
              "    <tr>\n",
              "      <th>A3NEAETOSXDBOM</th>\n",
              "      <td>89</td>\n",
              "      <td>85</td>\n",
              "      <td>0.955</td>\n",
              "    </tr>\n",
              "    <tr>\n",
              "      <th>AZV26LP92E6WU</th>\n",
              "      <td>167</td>\n",
              "      <td>159</td>\n",
              "      <td>0.952</td>\n",
              "    </tr>\n",
              "    <tr>\n",
              "      <th>A3UUTDX2WNVUS3</th>\n",
              "      <td>62</td>\n",
              "      <td>59</td>\n",
              "      <td>0.952</td>\n",
              "    </tr>\n",
              "    <tr>\n",
              "      <th>A1Q7A78VSQ5GQ4</th>\n",
              "      <td>92</td>\n",
              "      <td>86</td>\n",
              "      <td>0.935</td>\n",
              "    </tr>\n",
              "    <tr>\n",
              "      <th>A2II09GQGWOMTQ</th>\n",
              "      <td>75</td>\n",
              "      <td>70</td>\n",
              "      <td>0.933</td>\n",
              "    </tr>\n",
              "    <tr>\n",
              "      <th>ALSAOZ1V546VT</th>\n",
              "      <td>123</td>\n",
              "      <td>114</td>\n",
              "      <td>0.927</td>\n",
              "    </tr>\n",
              "    <tr>\n",
              "      <th>A6GMEO3VRY51S</th>\n",
              "      <td>52</td>\n",
              "      <td>48</td>\n",
              "      <td>0.923</td>\n",
              "    </tr>\n",
              "    <tr>\n",
              "      <th>A3QJQQZTKFV7BJ</th>\n",
              "      <td>58</td>\n",
              "      <td>53</td>\n",
              "      <td>0.914</td>\n",
              "    </tr>\n",
              "    <tr>\n",
              "      <th>AQ52JX9ES6XYY</th>\n",
              "      <td>58</td>\n",
              "      <td>52</td>\n",
              "      <td>0.897</td>\n",
              "    </tr>\n",
              "    <tr>\n",
              "      <th>A281NPSIMI1C2R</th>\n",
              "      <td>365</td>\n",
              "      <td>326</td>\n",
              "      <td>0.893</td>\n",
              "    </tr>\n",
              "    <tr>\n",
              "      <th>A1TMAVN4CEM8U8</th>\n",
              "      <td>204</td>\n",
              "      <td>182</td>\n",
              "      <td>0.892</td>\n",
              "    </tr>\n",
              "    <tr>\n",
              "      <th>A2YHXAZLCLDT8D</th>\n",
              "      <td>63</td>\n",
              "      <td>56</td>\n",
              "      <td>0.889</td>\n",
              "    </tr>\n",
              "    <tr>\n",
              "      <th>A3OXRFCJI67IMN</th>\n",
              "      <td>99</td>\n",
              "      <td>88</td>\n",
              "      <td>0.889</td>\n",
              "    </tr>\n",
              "    <tr>\n",
              "      <th>A2E3WMF9RWW2X2</th>\n",
              "      <td>105</td>\n",
              "      <td>93</td>\n",
              "      <td>0.886</td>\n",
              "    </tr>\n",
              "    <tr>\n",
              "      <th>AIEEK7AHXKZCC</th>\n",
              "      <td>51</td>\n",
              "      <td>45</td>\n",
              "      <td>0.882</td>\n",
              "    </tr>\n",
              "    <tr>\n",
              "      <th>AKMEY1BSHSDG7</th>\n",
              "      <td>155</td>\n",
              "      <td>136</td>\n",
              "      <td>0.877</td>\n",
              "    </tr>\n",
              "    <tr>\n",
              "      <th>A1XGFW5016CGQI</th>\n",
              "      <td>80</td>\n",
              "      <td>70</td>\n",
              "      <td>0.875</td>\n",
              "    </tr>\n",
              "    <tr>\n",
              "      <th>A1080SE9X3ECK0</th>\n",
              "      <td>72</td>\n",
              "      <td>63</td>\n",
              "      <td>0.875</td>\n",
              "    </tr>\n",
              "    <tr>\n",
              "      <th>A2G7B7FKP2O2PU</th>\n",
              "      <td>88</td>\n",
              "      <td>77</td>\n",
              "      <td>0.875</td>\n",
              "    </tr>\n",
              "    <tr>\n",
              "      <th>A1X1CEGHTHMBL1</th>\n",
              "      <td>135</td>\n",
              "      <td>118</td>\n",
              "      <td>0.874</td>\n",
              "    </tr>\n",
              "    <tr>\n",
              "      <th>A2NOW4U7W3F7RI</th>\n",
              "      <td>53</td>\n",
              "      <td>46</td>\n",
              "      <td>0.868</td>\n",
              "    </tr>\n",
              "    <tr>\n",
              "      <th>A3VKBFC5K2INR4</th>\n",
              "      <td>75</td>\n",
              "      <td>65</td>\n",
              "      <td>0.867</td>\n",
              "    </tr>\n",
              "    <tr>\n",
              "      <th>AYB4ELCS5AM8P</th>\n",
              "      <td>105</td>\n",
              "      <td>91</td>\n",
              "      <td>0.867</td>\n",
              "    </tr>\n",
              "    <tr>\n",
              "      <th>A1P2XYD265YE21</th>\n",
              "      <td>120</td>\n",
              "      <td>103</td>\n",
              "      <td>0.858</td>\n",
              "    </tr>\n",
              "    <tr>\n",
              "      <th>A35TIC6B8MVKWG</th>\n",
              "      <td>54</td>\n",
              "      <td>46</td>\n",
              "      <td>0.852</td>\n",
              "    </tr>\n",
              "    <tr>\n",
              "      <th>AMRMK86X3PKXD</th>\n",
              "      <td>107</td>\n",
              "      <td>90</td>\n",
              "      <td>0.841</td>\n",
              "    </tr>\n",
              "    <tr>\n",
              "      <th>A3M174IC0VXOS2</th>\n",
              "      <td>63</td>\n",
              "      <td>53</td>\n",
              "      <td>0.841</td>\n",
              "    </tr>\n",
              "    <tr>\n",
              "      <th>A2MNB77YGJ3CN0</th>\n",
              "      <td>107</td>\n",
              "      <td>90</td>\n",
              "      <td>0.841</td>\n",
              "    </tr>\n",
              "    <tr>\n",
              "      <th>A2OWR2PL3DLWS4</th>\n",
              "      <td>109</td>\n",
              "      <td>91</td>\n",
              "      <td>0.835</td>\n",
              "    </tr>\n",
              "    <tr>\n",
              "      <th>A106ZCP7RSXMRU</th>\n",
              "      <td>60</td>\n",
              "      <td>50</td>\n",
              "      <td>0.833</td>\n",
              "    </tr>\n",
              "    <tr>\n",
              "      <th>A37MH7ICH80QOX</th>\n",
              "      <td>58</td>\n",
              "      <td>48</td>\n",
              "      <td>0.828</td>\n",
              "    </tr>\n",
              "    <tr>\n",
              "      <th>A383XURHVF8ON6</th>\n",
              "      <td>92</td>\n",
              "      <td>76</td>\n",
              "      <td>0.826</td>\n",
              "    </tr>\n",
              "    <tr>\n",
              "      <th>A3FY3H6F4249E0</th>\n",
              "      <td>127</td>\n",
              "      <td>104</td>\n",
              "      <td>0.819</td>\n",
              "    </tr>\n",
              "    <tr>\n",
              "      <th>AJQDIT55SZ3ZX</th>\n",
              "      <td>63</td>\n",
              "      <td>51</td>\n",
              "      <td>0.810</td>\n",
              "    </tr>\n",
              "    <tr>\n",
              "      <th>A3UCN2RGY7O6S1</th>\n",
              "      <td>63</td>\n",
              "      <td>51</td>\n",
              "      <td>0.810</td>\n",
              "    </tr>\n",
              "    <tr>\n",
              "      <th>A1KEK09ZA6J9P8</th>\n",
              "      <td>71</td>\n",
              "      <td>57</td>\n",
              "      <td>0.803</td>\n",
              "    </tr>\n",
              "    <tr>\n",
              "      <th>A17V9XL4CWTQ6G</th>\n",
              "      <td>76</td>\n",
              "      <td>61</td>\n",
              "      <td>0.803</td>\n",
              "    </tr>\n",
              "  </tbody>\n",
              "</table>\n",
              "</div>\n",
              "      <button class=\"colab-df-convert\" onclick=\"convertToInteractive('df-0da3320f-46e4-497c-9a79-55def2a34f7a')\"\n",
              "              title=\"Convert this dataframe to an interactive table.\"\n",
              "              style=\"display:none;\">\n",
              "        \n",
              "  <svg xmlns=\"http://www.w3.org/2000/svg\" height=\"24px\"viewBox=\"0 0 24 24\"\n",
              "       width=\"24px\">\n",
              "    <path d=\"M0 0h24v24H0V0z\" fill=\"none\"/>\n",
              "    <path d=\"M18.56 5.44l.94 2.06.94-2.06 2.06-.94-2.06-.94-.94-2.06-.94 2.06-2.06.94zm-11 1L8.5 8.5l.94-2.06 2.06-.94-2.06-.94L8.5 2.5l-.94 2.06-2.06.94zm10 10l.94 2.06.94-2.06 2.06-.94-2.06-.94-.94-2.06-.94 2.06-2.06.94z\"/><path d=\"M17.41 7.96l-1.37-1.37c-.4-.4-.92-.59-1.43-.59-.52 0-1.04.2-1.43.59L10.3 9.45l-7.72 7.72c-.78.78-.78 2.05 0 2.83L4 21.41c.39.39.9.59 1.41.59.51 0 1.02-.2 1.41-.59l7.78-7.78 2.81-2.81c.8-.78.8-2.07 0-2.86zM5.41 20L4 18.59l7.72-7.72 1.47 1.35L5.41 20z\"/>\n",
              "  </svg>\n",
              "      </button>\n",
              "      \n",
              "  <style>\n",
              "    .colab-df-container {\n",
              "      display:flex;\n",
              "      flex-wrap:wrap;\n",
              "      gap: 12px;\n",
              "    }\n",
              "\n",
              "    .colab-df-convert {\n",
              "      background-color: #E8F0FE;\n",
              "      border: none;\n",
              "      border-radius: 50%;\n",
              "      cursor: pointer;\n",
              "      display: none;\n",
              "      fill: #1967D2;\n",
              "      height: 32px;\n",
              "      padding: 0 0 0 0;\n",
              "      width: 32px;\n",
              "    }\n",
              "\n",
              "    .colab-df-convert:hover {\n",
              "      background-color: #E2EBFA;\n",
              "      box-shadow: 0px 1px 2px rgba(60, 64, 67, 0.3), 0px 1px 3px 1px rgba(60, 64, 67, 0.15);\n",
              "      fill: #174EA6;\n",
              "    }\n",
              "\n",
              "    [theme=dark] .colab-df-convert {\n",
              "      background-color: #3B4455;\n",
              "      fill: #D2E3FC;\n",
              "    }\n",
              "\n",
              "    [theme=dark] .colab-df-convert:hover {\n",
              "      background-color: #434B5C;\n",
              "      box-shadow: 0px 1px 3px 1px rgba(0, 0, 0, 0.15);\n",
              "      filter: drop-shadow(0px 1px 2px rgba(0, 0, 0, 0.3));\n",
              "      fill: #FFFFFF;\n",
              "    }\n",
              "  </style>\n",
              "\n",
              "      <script>\n",
              "        const buttonEl =\n",
              "          document.querySelector('#df-0da3320f-46e4-497c-9a79-55def2a34f7a button.colab-df-convert');\n",
              "        buttonEl.style.display =\n",
              "          google.colab.kernel.accessAllowed ? 'block' : 'none';\n",
              "\n",
              "        async function convertToInteractive(key) {\n",
              "          const element = document.querySelector('#df-0da3320f-46e4-497c-9a79-55def2a34f7a');\n",
              "          const dataTable =\n",
              "            await google.colab.kernel.invokeFunction('convertToInteractive',\n",
              "                                                     [key], {});\n",
              "          if (!dataTable) return;\n",
              "\n",
              "          const docLinkHtml = 'Like what you see? Visit the ' +\n",
              "            '<a target=\"_blank\" href=https://colab.research.google.com/notebooks/data_table.ipynb>data table notebook</a>'\n",
              "            + ' to learn more about interactive tables.';\n",
              "          element.innerHTML = '';\n",
              "          dataTable['output_type'] = 'display_data';\n",
              "          await google.colab.output.renderOutput(dataTable, element);\n",
              "          const docLink = document.createElement('div');\n",
              "          docLink.innerHTML = docLinkHtml;\n",
              "          element.appendChild(docLink);\n",
              "        }\n",
              "      </script>\n",
              "    </div>\n",
              "  </div>\n",
              "  "
            ]
          },
          "metadata": {},
          "execution_count": 165
        }
      ]
    },
    {
      "cell_type": "markdown",
      "source": [
        "# ***Gráficos***"
      ],
      "metadata": {
        "id": "W2L3_2Nvp7HP"
      }
    }
  ]
}